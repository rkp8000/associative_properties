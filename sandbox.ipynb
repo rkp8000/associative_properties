{
 "cells": [
  {
   "cell_type": "code",
   "execution_count": 20,
   "metadata": {
    "collapsed": false
   },
   "outputs": [],
   "source": [
    "import pdb\n",
    "%matplotlib inline\n",
    "import matplotlib.pyplot as plt\n",
    "import network\n",
    "\n",
    "ntwk = network.Basic(100, 1000, .1)\n",
    "\n",
    "# build drives\n",
    "\n",
    "drives = [\n",
    "    {'type': 'item_drive', 'params': (0, 1)},\n",
    "    {'type': 'item_inhibition'},\n",
    "    {'type': 'item_inhibition'},\n",
    "    {'type': 'item_drive', 'params': (2, 3)},\n",
    "    {'type': 'item_inhibition'},\n",
    "    {'type': 'item_inhibition'},\n",
    "    {'type': 'item_drive', 'params': (4, 5)},\n",
    "    {'type': 'item_inhibition'},\n",
    "    {'type': 'item_inhibition'},\n",
    "    {'type': 'item_drive', 'params': (0,)},\n",
    "    {'type': None},\n",
    "    {'type': None},\n",
    "    {'type': 'item_inhibition'},\n",
    "    {'type': 'item_inhibition'},\n",
    "    {'type': 'item_drive', 'params': (1,)},\n",
    "    {'type': None},\n",
    "    {'type': None},\n",
    "    {'type': 'item_inhibition'},\n",
    "    {'type': 'item_inhibition'},\n",
    "    {'type': 'item_drive', 'params': (2,)},\n",
    "    {'type': None},\n",
    "    {'type': None},\n",
    "    {'type': 'item_inhibition'},\n",
    "    {'type': 'item_inhibition'},\n",
    "    {'type': 'item_drive', 'params': (3,)},\n",
    "    {'type': None},\n",
    "    {'type': None},\n",
    "    {'type': 'item_inhibition'},\n",
    "    {'type': 'item_inhibition'},\n",
    "    {'type': 'item_drive', 'params': (0,)},\n",
    "    {'type': None},\n",
    "    {'type': None},\n",
    "    {'type': 'item_inhibition'},\n",
    "    {'type': 'item_inhibition'},\n",
    "    {'type': 'item_drive', 'params': (1,)},\n",
    "    {'type': None},\n",
    "    {'type': None},\n",
    "    {'type': 'item_inhibition'},\n",
    "    {'type': 'item_inhibition'},\n",
    "    {'type': 'item_drive', 'params': (4,)},\n",
    "    {'type': None},\n",
    "    {'type': None},\n",
    "    {'type': 'item_inhibition'},\n",
    "    {'type': 'item_inhibition'},\n",
    "    {'type': 'item_drive', 'params': (5,)},\n",
    "    {'type': None},\n",
    "    {'type': None},\n",
    "    {'type': 'item_inhibition'},\n",
    "    {'type': 'item_inhibition'},\n",
    "]\n",
    "\n",
    "results = ntwk.run(drives, record=['atvn_item_idxs', 'atvn_item', 'atvn_mem', 'hx_mem'])"
   ]
  },
  {
   "cell_type": "code",
   "execution_count": 21,
   "metadata": {
    "collapsed": false
   },
   "outputs": [
    {
     "data": {
      "text/plain": [
       "[(0, 1),\n",
       " (2, 3),\n",
       " (4, 5),\n",
       " (0,),\n",
       " (0, 1),\n",
       " (1,),\n",
       " (0, 1),\n",
       " (2,),\n",
       " (2, 3),\n",
       " (3,),\n",
       " (2, 3),\n",
       " (0,),\n",
       " (0, 1),\n",
       " (1,),\n",
       " (0, 1),\n",
       " (4,),\n",
       " (4, 5),\n",
       " (5,),\n",
       " (4, 5)]"
      ]
     },
     "execution_count": 21,
     "metadata": {},
     "output_type": "execute_result"
    }
   ],
   "source": [
    "[result for result in results['atvn_item_idxs'] if result]"
   ]
  },
  {
   "cell_type": "code",
   "execution_count": 1,
   "metadata": {
    "collapsed": false
   },
   "outputs": [
    {
     "ename": "ImportError",
     "evalue": "No module named figures.demos_basic",
     "output_type": "error",
     "traceback": [
      "\u001b[0;31m---------------------------------------------------------------------------\u001b[0m",
      "\u001b[0;31mImportError\u001b[0m                               Traceback (most recent call last)",
      "\u001b[0;32m<ipython-input-1-4dde2c8b6d1d>\u001b[0m in \u001b[0;36m<module>\u001b[0;34m()\u001b[0m\n\u001b[1;32m      1\u001b[0m \u001b[0mget_ipython\u001b[0m\u001b[0;34m(\u001b[0m\u001b[0;34m)\u001b[0m\u001b[0;34m.\u001b[0m\u001b[0mmagic\u001b[0m\u001b[0;34m(\u001b[0m\u001b[0;34mu'matplotlib inline'\u001b[0m\u001b[0;34m)\u001b[0m\u001b[0;34m\u001b[0m\u001b[0m\n\u001b[0;32m----> 2\u001b[0;31m \u001b[0;32mfrom\u001b[0m \u001b[0mfigures\u001b[0m\u001b[0;34m.\u001b[0m\u001b[0mdemos_basic\u001b[0m \u001b[0;32mimport\u001b[0m \u001b[0msingle_trial_example\u001b[0m\u001b[0;34m\u001b[0m\u001b[0m\n\u001b[0m",
      "\u001b[0;31mImportError\u001b[0m: No module named figures.demos_basic"
     ]
    }
   ],
   "source": [
    "%matplotlib inline\n",
    "from figures.demos_basic import single_trial\n",
    "\n",
    "single_trial(\n",
    "    SEED=0,\n",
    "    N_ITEM_UNITS=100,\n",
    "    N_MEMORY_UNITS=2000,\n",
    "    P_CXN=0.2,\n",
    "    PAIRS=[(0, 1), (2, 3)])"
   ]
  },
  {
   "cell_type": "code",
   "execution_count": 11,
   "metadata": {
    "collapsed": false
   },
   "outputs": [
    {
     "data": {
      "text/plain": [
       "(3, 4, 6)"
      ]
     },
     "execution_count": 11,
     "metadata": {},
     "output_type": "execute_result"
    }
   ],
   "source": [
    "import numpy as np\n",
    "x = np.array([0, 0, 0, 1, 1, 0, 1])\n",
    "tuple(x.nonzero()[0])"
   ]
  }
 ],
 "metadata": {
  "kernelspec": {
   "display_name": "Python 2",
   "language": "python",
   "name": "python2"
  },
  "language_info": {
   "codemirror_mode": {
    "name": "ipython",
    "version": 2
   },
   "file_extension": ".py",
   "mimetype": "text/x-python",
   "name": "python",
   "nbconvert_exporter": "python",
   "pygments_lexer": "ipython2",
   "version": "2.7.11"
  }
 },
 "nbformat": 4,
 "nbformat_minor": 0
}
